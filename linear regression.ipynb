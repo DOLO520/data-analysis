{
 "cells": [
  {
   "cell_type": "markdown",
   "metadata": {},
   "source": [
    "<table>\n",
    "    <tr>\n",
    "        <td><a href=\"https://www.greedyai.com/\"><img src=\"http://smallpay.greedyai.com/skin/images/logoNew.png\">   </td>\n",
    "        <td> <a href=\"http://aijiaoai.greedyai.com/home\"><img src=\"http://smallpay.greedyai.com/%E5%8C%A0%E5%BF%83%E5%81%9A%E4%BA%8B.jpg\">    </td>\n",
    "    </tr>\n",
    "</table>\n",
    "\n",
    "<hr />"
   ]
  },
  {
   "cell_type": "markdown",
   "metadata": {},
   "source": [
    "# 贪心科技学习总结"
   ]
  },
  {
   "cell_type": "markdown",
   "metadata": {},
   "source": [
    "<table>\n",
    "    <tr>\n",
    "        <td><a href=\"https://github.com/DOLO520\"><img src=\"http://smallpay.greedyai.com/%E6%9C%BA%E5%99%A8%E5%AD%A6%E4%B9%A0.jpg\"> </td>\n",
    "        \n",
    "    </tr>\n",
    "</table>\n",
    "\n",
    "<hr />\n",
    "    "
   ]
  },
  {
   "cell_type": "markdown",
   "metadata": {},
   "source": [
    "# 销售预测"
   ]
  },
  {
   "cell_type": "markdown",
   "metadata": {},
   "source": [
    "# 环境说明：\n",
    "- 项目描述：投放金额与销售额预测\n",
    "- 作者： 参考 贪心学院 大周老师\n",
    "- 基础环境：Python3.6\n",
    "- 依赖库：pandas、matplotlib、sklearn、numpy\n",
    "- 输入数据 ：data.txt\n",
    "- 程序输出项目：对销售额进行预测\n",
    "- 模型应用：线性回归\n",
    "- 应用软件：jupyter notebook\n",
    "\n"
   ]
  },
  {
   "cell_type": "markdown",
   "metadata": {},
   "source": [
    "### 导入库"
   ]
  },
  {
   "cell_type": "code",
   "execution_count": 10,
   "metadata": {},
   "outputs": [],
   "source": [
    "# 导入数据分析的pandas库\n",
    "import pandas as pd\n",
    "# 导入画图库\n",
    "from matplotlib import pyplot as plt\n",
    "# 导入模型库   线性回归\n",
    "from sklearn import linear_model \n",
    "# 导入算法评价函数  均方误差\n",
    "from sklearn.metrics import mean_squared_error\n"
   ]
  },
  {
   "cell_type": "code",
   "execution_count": 14,
   "metadata": {},
   "outputs": [],
   "source": [
    "# 导入数据分析的pandas库\n",
    "import pandas as pd \n",
    "# 导入画图库\n",
    "from matplotlib import pyplot as plt\n",
    "# 导入模型库   线性回归\n",
    "from sklearn import linear_model\n",
    "# 导入算法评价函数  均方误差\n",
    "from sklearn.metrics import mean_squared_error\n"
   ]
  },
  {
   "cell_type": "markdown",
   "metadata": {},
   "source": [
    "### 读取数据"
   ]
  },
  {
   "cell_type": "code",
   "execution_count": 18,
   "metadata": {},
   "outputs": [],
   "source": [
    "data = pd.read_csv('data.txt')"
   ]
  },
  {
   "cell_type": "markdown",
   "metadata": {},
   "source": [
    "### 数据预处理\n"
   ]
  },
  {
   "cell_type": "code",
   "execution_count": 23,
   "metadata": {},
   "outputs": [],
   "source": [
    "num = int(data.shape[0]*0.7)\n",
    "x,y = data[['money']],data[['amount']]\n",
    "x_train,x_test = x[:num],x[num:]\n",
    "y_train,y_test = y[:num],y[num:]\n"
   ]
  },
  {
   "cell_type": "markdown",
   "metadata": {},
   "source": [
    "### 数据探索性分析"
   ]
  },
  {
   "cell_type": "code",
   "execution_count": 25,
   "metadata": {},
   "outputs": [
    {
     "data": {
      "text/plain": [
       "<matplotlib.collections.PathCollection at 0x230f6f7aba8>"
      ]
     },
     "execution_count": 25,
     "metadata": {},
     "output_type": "execute_result"
    },
    {
     "data": {
      "image/png": "[encoded data removed]",
      "text/plain": [
       "<Figure size 432x288 with 1 Axes>"
      ]
     },
     "metadata": {},
     "output_type": "display_data"
    }
   ],
   "source": [
    "plt.scatter(x_train,y_train)"
   ]
  },
  {
   "cell_type": "markdown",
   "metadata": {},
   "source": [
    "### 数据建模"
   ]
  },
  {
   "cell_type": "code",
   "execution_count": 28,
   "metadata": {},
   "outputs": [
    {
     "data": {
      "text/plain": [
       "LinearRegression(copy_X=True, fit_intercept=True, n_jobs=1, normalize=False)"
      ]
     },
     "execution_count": 28,
     "metadata": {},
     "output_type": "execute_result"
    }
   ],
   "source": [
    "model = linear_model.LinearRegression()\n",
    "model.fit(x_train,y_train)\n"
   ]
  },
  {
   "cell_type": "markdown",
   "metadata": {},
   "source": [
    "### 模型评估"
   ]
  },
  {
   "cell_type": "code",
   "execution_count": 29,
   "metadata": {},
   "outputs": [
    {
     "name": "stdout",
     "output_type": "stream",
     "text": [
      "MSE均方误差是: 65823228.80\n"
     ]
    }
   ],
   "source": [
    "predict_test_y = model.predict(x_test)\n",
    "print(\"MSE均方误差是: %.2f\" % mean_squared_error(y_test,predict_test_y))"
   ]
  },
  {
   "cell_type": "markdown",
   "metadata": {},
   "source": [
    "### 预测"
   ]
  },
  {
   "cell_type": "code",
   "execution_count": 32,
   "metadata": {},
   "outputs": [
    {
     "name": "stdout",
     "output_type": "stream",
     "text": [
      "[[196113.77021028]]\n"
     ]
    }
   ],
   "source": [
    "import numpy as np\n",
    "new_x = np.array([[84632]])\n",
    "pre_y = model.predict(new_x)\n",
    "print(pre_y)"
   ]
  },
  {
   "cell_type": "code",
   "execution_count": null,
   "metadata": {},
   "outputs": [],
   "source": []
  }
 ],
 "metadata": {
  "kernelspec": {
   "display_name": "Python 3",
   "language": "python",
   "name": "python3"
  },
  "language_info": {
   "codemirror_mode": {
    "name": "ipython",
    "version": 3
   },
   "file_extension": ".py",
   "mimetype": "text/x-python",
   "name": "python",
   "nbconvert_exporter": "python",
   "pygments_lexer": "ipython3",
   "version": "3.6.4"
  }
 },
 "nbformat": 4,
 "nbformat_minor": 2
}
